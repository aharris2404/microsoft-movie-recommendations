{
 "cells": [
  {
   "cell_type": "code",
   "execution_count": 52,
   "metadata": {},
   "outputs": [],
   "source": [
    "import os\n",
    "import pandas as pd"
   ]
  },
  {
   "cell_type": "code",
   "execution_count": 51,
   "metadata": {
    "scrolled": true
   },
   "outputs": [
    {
     "name": "stdout",
     "output_type": "stream",
     "text": [
      "[Errno 2] No such file or directory: 'data'\n",
      "/home/andrew/Coding/FlatironSchool/microsoft-movie-recommendations/data\n",
      "/home/andrew/Coding/FlatironSchool/microsoft-movie-recommendations/data\n",
      "bom.movie_gross.csv.gz\t  imdb.title.crew.csv.gz\trt.reviews.tsv.gz\n",
      "imdb.name.basics.csv.gz   imdb.title.principals.csv.gz\ttmdb.movies.csv.gz\n",
      "imdb.title.akas.csv.gz\t  imdb.title.ratings.csv.gz\ttn.movie_budgets.csv.gz\n",
      "imdb.title.basics.csv.gz  rt.movie_info.tsv.gz\n"
     ]
    }
   ],
   "source": [
    "%cd data\n",
    "!pwd\n",
    "!ls"
   ]
  },
  {
   "cell_type": "code",
   "execution_count": 55,
   "metadata": {},
   "outputs": [],
   "source": [
    "DF_cols_list = list()\n",
    "for file in os.listdir():\n",
    "    if file[-6:-3] == 'csv':\n",
    "        DF_cols_list.append(([file] + list(pd.read_csv(file).columns)).sort())\n",
    "    elif file[-6:-3] == 'tsv':\n",
    "        DF_cols_list.append(([file] + list(pd.read_csv(file, sep='\\t', encoding='latin-1').columns)).sort())\n",
    "    else:\n",
    "        continue"
   ]
  },
  {
   "cell_type": "code",
   "execution_count": 56,
   "metadata": {},
   "outputs": [
    {
     "data": {
      "text/plain": [
       "[['imdb.title.basics.csv.gz',\n",
       "  'tconst',\n",
       "  'primary_title',\n",
       "  'original_title',\n",
       "  'start_year',\n",
       "  'runtime_minutes',\n",
       "  'genres'],\n",
       " ['imdb.title.ratings.csv.gz', 'tconst', 'averagerating', 'numvotes'],\n",
       " ['tn.movie_budgets.csv.gz',\n",
       "  'id',\n",
       "  'release_date',\n",
       "  'movie',\n",
       "  'production_budget',\n",
       "  'domestic_gross',\n",
       "  'worldwide_gross'],\n",
       " ['imdb.title.principals.csv.gz',\n",
       "  'tconst',\n",
       "  'ordering',\n",
       "  'nconst',\n",
       "  'category',\n",
       "  'job',\n",
       "  'characters'],\n",
       " ['id',\n",
       "  'review',\n",
       "  'rating',\n",
       "  'fresh',\n",
       "  'critic',\n",
       "  'top_critic',\n",
       "  'publisher',\n",
       "  'date'],\n",
       " ['imdb.name.basics.csv.gz',\n",
       "  'nconst',\n",
       "  'primary_name',\n",
       "  'birth_year',\n",
       "  'death_year',\n",
       "  'primary_profession',\n",
       "  'known_for_titles'],\n",
       " ['bom.movie_gross.csv.gz',\n",
       "  'title',\n",
       "  'studio',\n",
       "  'domestic_gross',\n",
       "  'foreign_gross',\n",
       "  'year'],\n",
       " ['tmdb.movies.csv.gz',\n",
       "  'Unnamed: 0',\n",
       "  'genre_ids',\n",
       "  'id',\n",
       "  'original_language',\n",
       "  'original_title',\n",
       "  'popularity',\n",
       "  'release_date',\n",
       "  'title',\n",
       "  'vote_average',\n",
       "  'vote_count'],\n",
       " ['imdb.title.crew.csv.gz', 'tconst', 'directors', 'writers'],\n",
       " ['imdb.title.akas.csv.gz',\n",
       "  'title_id',\n",
       "  'ordering',\n",
       "  'title',\n",
       "  'region',\n",
       "  'language',\n",
       "  'types',\n",
       "  'attributes',\n",
       "  'is_original_title'],\n",
       " ['id',\n",
       "  'synopsis',\n",
       "  'rating',\n",
       "  'genre',\n",
       "  'director',\n",
       "  'writer',\n",
       "  'theater_date',\n",
       "  'dvd_date',\n",
       "  'currency',\n",
       "  'box_office',\n",
       "  'runtime',\n",
       "  'studio']]"
      ]
     },
     "execution_count": 56,
     "metadata": {},
     "output_type": "execute_result"
    }
   ],
   "source": [
    "for file_info in DF_cols_list:\n",
    "    for name "
   ]
  },
  {
   "cell_type": "code",
   "execution_count": null,
   "metadata": {},
   "outputs": [],
   "source": []
  }
 ],
 "metadata": {
  "kernelspec": {
   "display_name": "Python 3",
   "language": "python",
   "name": "python3"
  },
  "language_info": {
   "codemirror_mode": {
    "name": "ipython",
    "version": 3
   },
   "file_extension": ".py",
   "mimetype": "text/x-python",
   "name": "python",
   "nbconvert_exporter": "python",
   "pygments_lexer": "ipython3",
   "version": "3.7.4"
  }
 },
 "nbformat": 4,
 "nbformat_minor": 2
}
