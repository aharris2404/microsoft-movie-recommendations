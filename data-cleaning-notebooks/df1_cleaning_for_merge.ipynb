{
 "cells": [
  {
   "cell_type": "code",
   "execution_count": 77,
   "metadata": {},
   "outputs": [],
   "source": [
    "import numpy as np\n",
    "import pandas as pd"
   ]
  },
  {
   "cell_type": "code",
   "execution_count": 78,
   "metadata": {},
   "outputs": [],
   "source": [
    "#Uploading data sets in a format that is uniformed\n",
    "df1 = pd.read_csv('../data/imdb.title.basics.csv.gz') #basic"
   ]
  },
  {
   "cell_type": "code",
   "execution_count": 79,
   "metadata": {},
   "outputs": [],
   "source": [
    "df1 = df1.drop(['original_title', 'runtime_minutes'], axis=1)"
   ]
  },
  {
   "cell_type": "code",
   "execution_count": 80,
   "metadata": {},
   "outputs": [],
   "source": [
    "df1 = df1.rename(columns={'primary_title':'title', 'start_year': 'year'})"
   ]
  },
  {
   "cell_type": "code",
   "execution_count": 81,
   "metadata": {},
   "outputs": [],
   "source": [
    "indices_without_genre_data = df1[df1['genres'].isna()].index\n",
    "df1 = df1.drop(indices_without_genre_data)"
   ]
  },
  {
   "cell_type": "code",
   "execution_count": 82,
   "metadata": {},
   "outputs": [],
   "source": [
    "def sep_genre(genres):\n",
    "    unique_genre = set()\n",
    "    for genre in genres:\n",
    "        if type(genre) == str:\n",
    "            genre_list = genre.split(',')\n",
    "            for g in genre_list:\n",
    "                unique_genre.add(g)\n",
    "    return unique_genre"
   ]
  },
  {
   "cell_type": "code",
   "execution_count": 83,
   "metadata": {},
   "outputs": [],
   "source": [
    "genres_col_names = list(sep_genre(df1['genres']))\n",
    "for genre in genres_col_names:\n",
    "    df1[genre] = df1.genres.str.contains(pat = genre).astype(bool)"
   ]
  },
  {
   "cell_type": "code",
   "execution_count": 84,
   "metadata": {},
   "outputs": [
    {
     "name": "stdout",
     "output_type": "stream",
     "text": [
      "<class 'pandas.core.frame.DataFrame'>\n",
      "Int64Index: 139722 entries, 0 to 146143\n",
      "Data columns (total 31 columns):\n",
      "tconst         139722 non-null object\n",
      "title          139722 non-null object\n",
      "year           139722 non-null int64\n",
      "genres         139722 non-null object\n",
      "Sport          139722 non-null bool\n",
      "Fantasy        139722 non-null bool\n",
      "Mystery        139722 non-null bool\n",
      "War            139722 non-null bool\n",
      "Biography      139722 non-null bool\n",
      "Drama          139722 non-null bool\n",
      "Talk-Show      139722 non-null bool\n",
      "Musical        139722 non-null bool\n",
      "Comedy         139722 non-null bool\n",
      "History        139722 non-null bool\n",
      "Crime          139722 non-null bool\n",
      "Adult          139722 non-null bool\n",
      "Horror         139722 non-null bool\n",
      "Game-Show      139722 non-null bool\n",
      "Family         139722 non-null bool\n",
      "Adventure      139722 non-null bool\n",
      "Romance        139722 non-null bool\n",
      "News           139722 non-null bool\n",
      "Documentary    139722 non-null bool\n",
      "Western        139722 non-null bool\n",
      "Short          139722 non-null bool\n",
      "Sci-Fi         139722 non-null bool\n",
      "Reality-TV     139722 non-null bool\n",
      "Action         139722 non-null bool\n",
      "Thriller       139722 non-null bool\n",
      "Music          139722 non-null bool\n",
      "Animation      139722 non-null bool\n",
      "dtypes: bool(27), int64(1), object(3)\n",
      "memory usage: 8.9+ MB\n"
     ]
    }
   ],
   "source": [
    "indices_before_2020 = df1[df1['year'] >= 2020].index\n",
    "df1 = df1.drop(indices_before_2020)"
   ]
  },
  {
   "cell_type": "code",
   "execution_count": 85,
   "metadata": {},
   "outputs": [],
   "source": [
    "#Looking for duplicate values\n",
    "df1 = df1.drop_duplicates(subset='title')"
   ]
  },
  {
   "cell_type": "code",
   "execution_count": 89,
   "metadata": {},
   "outputs": [],
   "source": [
    "df1 = df1.drop(['tconst', 'year'], axis=1)"
   ]
  },
  {
   "cell_type": "code",
   "execution_count": 91,
   "metadata": {},
   "outputs": [
    {
     "data": {
      "text/html": [
       "<div>\n",
       "<style scoped>\n",
       "    .dataframe tbody tr th:only-of-type {\n",
       "        vertical-align: middle;\n",
       "    }\n",
       "\n",
       "    .dataframe tbody tr th {\n",
       "        vertical-align: top;\n",
       "    }\n",
       "\n",
       "    .dataframe thead th {\n",
       "        text-align: right;\n",
       "    }\n",
       "</style>\n",
       "<table border=\"1\" class=\"dataframe\">\n",
       "  <thead>\n",
       "    <tr style=\"text-align: right;\">\n",
       "      <th></th>\n",
       "      <th>title</th>\n",
       "      <th>genres</th>\n",
       "      <th>Sport</th>\n",
       "      <th>Fantasy</th>\n",
       "      <th>Mystery</th>\n",
       "      <th>War</th>\n",
       "      <th>Biography</th>\n",
       "      <th>Drama</th>\n",
       "      <th>Talk-Show</th>\n",
       "      <th>Musical</th>\n",
       "      <th>...</th>\n",
       "      <th>News</th>\n",
       "      <th>Documentary</th>\n",
       "      <th>Western</th>\n",
       "      <th>Short</th>\n",
       "      <th>Sci-Fi</th>\n",
       "      <th>Reality-TV</th>\n",
       "      <th>Action</th>\n",
       "      <th>Thriller</th>\n",
       "      <th>Music</th>\n",
       "      <th>Animation</th>\n",
       "    </tr>\n",
       "  </thead>\n",
       "  <tbody>\n",
       "    <tr>\n",
       "      <td>0</td>\n",
       "      <td>Sunghursh</td>\n",
       "      <td>Action,Crime,Drama</td>\n",
       "      <td>False</td>\n",
       "      <td>False</td>\n",
       "      <td>False</td>\n",
       "      <td>False</td>\n",
       "      <td>False</td>\n",
       "      <td>True</td>\n",
       "      <td>False</td>\n",
       "      <td>False</td>\n",
       "      <td>...</td>\n",
       "      <td>False</td>\n",
       "      <td>False</td>\n",
       "      <td>False</td>\n",
       "      <td>False</td>\n",
       "      <td>False</td>\n",
       "      <td>False</td>\n",
       "      <td>True</td>\n",
       "      <td>False</td>\n",
       "      <td>False</td>\n",
       "      <td>False</td>\n",
       "    </tr>\n",
       "    <tr>\n",
       "      <td>1</td>\n",
       "      <td>One Day Before the Rainy Season</td>\n",
       "      <td>Biography,Drama</td>\n",
       "      <td>False</td>\n",
       "      <td>False</td>\n",
       "      <td>False</td>\n",
       "      <td>False</td>\n",
       "      <td>True</td>\n",
       "      <td>True</td>\n",
       "      <td>False</td>\n",
       "      <td>False</td>\n",
       "      <td>...</td>\n",
       "      <td>False</td>\n",
       "      <td>False</td>\n",
       "      <td>False</td>\n",
       "      <td>False</td>\n",
       "      <td>False</td>\n",
       "      <td>False</td>\n",
       "      <td>False</td>\n",
       "      <td>False</td>\n",
       "      <td>False</td>\n",
       "      <td>False</td>\n",
       "    </tr>\n",
       "    <tr>\n",
       "      <td>2</td>\n",
       "      <td>The Other Side of the Wind</td>\n",
       "      <td>Drama</td>\n",
       "      <td>False</td>\n",
       "      <td>False</td>\n",
       "      <td>False</td>\n",
       "      <td>False</td>\n",
       "      <td>False</td>\n",
       "      <td>True</td>\n",
       "      <td>False</td>\n",
       "      <td>False</td>\n",
       "      <td>...</td>\n",
       "      <td>False</td>\n",
       "      <td>False</td>\n",
       "      <td>False</td>\n",
       "      <td>False</td>\n",
       "      <td>False</td>\n",
       "      <td>False</td>\n",
       "      <td>False</td>\n",
       "      <td>False</td>\n",
       "      <td>False</td>\n",
       "      <td>False</td>\n",
       "    </tr>\n",
       "    <tr>\n",
       "      <td>3</td>\n",
       "      <td>Sabse Bada Sukh</td>\n",
       "      <td>Comedy,Drama</td>\n",
       "      <td>False</td>\n",
       "      <td>False</td>\n",
       "      <td>False</td>\n",
       "      <td>False</td>\n",
       "      <td>False</td>\n",
       "      <td>True</td>\n",
       "      <td>False</td>\n",
       "      <td>False</td>\n",
       "      <td>...</td>\n",
       "      <td>False</td>\n",
       "      <td>False</td>\n",
       "      <td>False</td>\n",
       "      <td>False</td>\n",
       "      <td>False</td>\n",
       "      <td>False</td>\n",
       "      <td>False</td>\n",
       "      <td>False</td>\n",
       "      <td>False</td>\n",
       "      <td>False</td>\n",
       "    </tr>\n",
       "    <tr>\n",
       "      <td>4</td>\n",
       "      <td>The Wandering Soap Opera</td>\n",
       "      <td>Comedy,Drama,Fantasy</td>\n",
       "      <td>False</td>\n",
       "      <td>True</td>\n",
       "      <td>False</td>\n",
       "      <td>False</td>\n",
       "      <td>False</td>\n",
       "      <td>True</td>\n",
       "      <td>False</td>\n",
       "      <td>False</td>\n",
       "      <td>...</td>\n",
       "      <td>False</td>\n",
       "      <td>False</td>\n",
       "      <td>False</td>\n",
       "      <td>False</td>\n",
       "      <td>False</td>\n",
       "      <td>False</td>\n",
       "      <td>False</td>\n",
       "      <td>False</td>\n",
       "      <td>False</td>\n",
       "      <td>False</td>\n",
       "    </tr>\n",
       "  </tbody>\n",
       "</table>\n",
       "<p>5 rows × 29 columns</p>\n",
       "</div>"
      ],
      "text/plain": [
       "                             title                genres  Sport  Fantasy  \\\n",
       "0                        Sunghursh    Action,Crime,Drama  False    False   \n",
       "1  One Day Before the Rainy Season       Biography,Drama  False    False   \n",
       "2       The Other Side of the Wind                 Drama  False    False   \n",
       "3                  Sabse Bada Sukh          Comedy,Drama  False    False   \n",
       "4         The Wandering Soap Opera  Comedy,Drama,Fantasy  False     True   \n",
       "\n",
       "   Mystery    War  Biography  Drama  Talk-Show  Musical  ...   News  \\\n",
       "0    False  False      False   True      False    False  ...  False   \n",
       "1    False  False       True   True      False    False  ...  False   \n",
       "2    False  False      False   True      False    False  ...  False   \n",
       "3    False  False      False   True      False    False  ...  False   \n",
       "4    False  False      False   True      False    False  ...  False   \n",
       "\n",
       "   Documentary  Western  Short  Sci-Fi  Reality-TV  Action  Thriller  Music  \\\n",
       "0        False    False  False   False       False    True     False  False   \n",
       "1        False    False  False   False       False   False     False  False   \n",
       "2        False    False  False   False       False   False     False  False   \n",
       "3        False    False  False   False       False   False     False  False   \n",
       "4        False    False  False   False       False   False     False  False   \n",
       "\n",
       "   Animation  \n",
       "0      False  \n",
       "1      False  \n",
       "2      False  \n",
       "3      False  \n",
       "4      False  \n",
       "\n",
       "[5 rows x 29 columns]"
      ]
     },
     "metadata": {},
     "output_type": "display_data"
    },
    {
     "name": "stdout",
     "output_type": "stream",
     "text": [
      "<class 'pandas.core.frame.DataFrame'>\n",
      "Int64Index: 130465 entries, 0 to 146143\n",
      "Data columns (total 29 columns):\n",
      "title          130465 non-null object\n",
      "genres         130465 non-null object\n",
      "Sport          130465 non-null bool\n",
      "Fantasy        130465 non-null bool\n",
      "Mystery        130465 non-null bool\n",
      "War            130465 non-null bool\n",
      "Biography      130465 non-null bool\n",
      "Drama          130465 non-null bool\n",
      "Talk-Show      130465 non-null bool\n",
      "Musical        130465 non-null bool\n",
      "Comedy         130465 non-null bool\n",
      "History        130465 non-null bool\n",
      "Crime          130465 non-null bool\n",
      "Adult          130465 non-null bool\n",
      "Horror         130465 non-null bool\n",
      "Game-Show      130465 non-null bool\n",
      "Family         130465 non-null bool\n",
      "Adventure      130465 non-null bool\n",
      "Romance        130465 non-null bool\n",
      "News           130465 non-null bool\n",
      "Documentary    130465 non-null bool\n",
      "Western        130465 non-null bool\n",
      "Short          130465 non-null bool\n",
      "Sci-Fi         130465 non-null bool\n",
      "Reality-TV     130465 non-null bool\n",
      "Action         130465 non-null bool\n",
      "Thriller       130465 non-null bool\n",
      "Music          130465 non-null bool\n",
      "Animation      130465 non-null bool\n",
      "dtypes: bool(27), object(2)\n",
      "memory usage: 6.3+ MB\n"
     ]
    },
    {
     "data": {
      "text/plain": [
       "None"
      ]
     },
     "metadata": {},
     "output_type": "display_data"
    }
   ],
   "source": [
    "display(df1.head())\n",
    "display(df1.info())"
   ]
  },
  {
   "cell_type": "code",
   "execution_count": 94,
   "metadata": {},
   "outputs": [
    {
     "name": "stdout",
     "output_type": "stream",
     "text": [
      "/home/andrew/Coding/FlatironSchool/microsoft-movie-recommendations/data-cleaning-notebooks\r\n"
     ]
    }
   ],
   "source": [
    "!pwd"
   ]
  },
  {
   "cell_type": "code",
   "execution_count": null,
   "metadata": {},
   "outputs": [],
   "source": [
    "df1.to_csv(/)"
   ]
  }
 ],
 "metadata": {
  "kernelspec": {
   "display_name": "Python 3",
   "language": "python",
   "name": "python3"
  },
  "language_info": {
   "codemirror_mode": {
    "name": "ipython",
    "version": 3
   },
   "file_extension": ".py",
   "mimetype": "text/x-python",
   "name": "python",
   "nbconvert_exporter": "python",
   "pygments_lexer": "ipython3",
   "version": "3.7.3"
  }
 },
 "nbformat": 4,
 "nbformat_minor": 2
}
