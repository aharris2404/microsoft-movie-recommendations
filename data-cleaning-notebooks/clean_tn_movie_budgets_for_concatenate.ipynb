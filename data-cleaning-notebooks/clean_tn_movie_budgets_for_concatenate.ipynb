{
 "cells": [
  {
   "cell_type": "code",
   "execution_count": 154,
   "metadata": {},
   "outputs": [],
   "source": [
    "import numpy as np\n",
    "import pandas as pd"
   ]
  },
  {
   "cell_type": "code",
   "execution_count": 155,
   "metadata": {},
   "outputs": [
    {
     "name": "stdout",
     "output_type": "stream",
     "text": [
      "[Errno 2] No such file or directory: 'data'\n",
      "/home/andrew/Coding/FlatironSchool/microsoft-movie-recommendations/data\n",
      "bom.movie_gross.csv.gz\t  imdb.title.crew.csv.gz\trt.reviews.tsv.gz\r\n",
      "imdb.name.basics.csv.gz   imdb.title.principals.csv.gz\ttmdb.movies.csv.gz\r\n",
      "imdb.title.akas.csv.gz\t  imdb.title.ratings.csv.gz\ttn.movie_budgets.csv.gz\r\n",
      "imdb.title.basics.csv.gz  rt.movie_info.tsv.gz\r\n"
     ]
    }
   ],
   "source": [
    "%cd data\n",
    "!ls"
   ]
  },
  {
   "cell_type": "code",
   "execution_count": 156,
   "metadata": {},
   "outputs": [],
   "source": [
    "df3 = pd.read_csv('tn.movie_budgets.csv.gz') #budget_data"
   ]
  },
  {
   "cell_type": "code",
   "execution_count": 157,
   "metadata": {
    "scrolled": true
   },
   "outputs": [],
   "source": [
    "# display(df3.head())\n",
    "# display(df3.info())"
   ]
  },
  {
   "cell_type": "code",
   "execution_count": 158,
   "metadata": {},
   "outputs": [],
   "source": [
    "# drop unnecessary cols\n",
    "df3_cleaned = df3.drop(['id', 'production_budget'], axis=1)\n",
    "# df3_cleaned.head()"
   ]
  },
  {
   "cell_type": "code",
   "execution_count": 159,
   "metadata": {},
   "outputs": [],
   "source": [
    "# pull out only the year from release_date and coerce to int type\n",
    "df3_cleaned['release_date'] = [date[-4:] for date in df3_cleaned['release_date']]\n",
    "df3_cleaned['release_date'] = df3_cleaned['release_date'].astype(int)\n",
    "# df3_cleaned.head()"
   ]
  },
  {
   "cell_type": "code",
   "execution_count": 160,
   "metadata": {},
   "outputs": [],
   "source": [
    "# strip any '$' and ',' from domestic/worldwide gross, then coerce to int\n",
    "df3_cleaned['domestic_gross'] = [amount.replace('$', '').replace(',','') for amount in df3_cleaned['domestic_gross']]\n",
    "df3_cleaned['worldwide_gross'] = [amount.replace('$', '').replace(',','') for amount in df3_cleaned['worldwide_gross']]\n",
    "df3_cleaned['domestic_gross'] = df3_cleaned['domestic_gross'].astype(int)\n",
    "df3_cleaned['worldwide_gross'] = df3_cleaned['worldwide_gross'].astype(int)\n",
    "# df3_cleaned.head()"
   ]
  },
  {
   "cell_type": "code",
   "execution_count": 161,
   "metadata": {},
   "outputs": [],
   "source": [
    "# make worldwide gross only track foreign revenue by subtracting domestic values from it\n",
    "df3_cleaned['worldwide_gross'] = [df3_cleaned['worldwide_gross'][i] - df3_cleaned['domestic_gross'][i] for i in range(len(df3_cleaned['worldwide_gross']))]\n",
    "# df3_cleaned.head()"
   ]
  },
  {
   "cell_type": "code",
   "execution_count": 162,
   "metadata": {},
   "outputs": [],
   "source": [
    "# rename cols\n",
    "df3_cleaned = df3_cleaned.rename(columns = {'movie': 'title', 'release_date': 'year', 'worldwide_gross': 'for_gross', 'domestic_gross': 'dom_gross'})\n",
    "# df3_cleaned.head()"
   ]
  },
  {
   "cell_type": "code",
   "execution_count": 163,
   "metadata": {},
   "outputs": [],
   "source": [
    "# rearrange cols\n",
    "df3_cleaned = df3_cleaned[['title', 'year', 'dom_gross', 'for_gross']]\n",
    "# df3_cleaned.head()"
   ]
  },
  {
   "cell_type": "code",
   "execution_count": 166,
   "metadata": {},
   "outputs": [],
   "source": [
    "# df3_cleaned.to_csv( path_or_buf='./tn.movie_budgets.cleaned_for_concatenation.csv')"
   ]
  },
  {
   "cell_type": "code",
   "execution_count": 164,
   "metadata": {},
   "outputs": [],
   "source": [
    "# display(df3_cleaned.head())\n",
    "# display(df3_cleaned.info())"
   ]
  }
 ],
 "metadata": {
  "kernelspec": {
   "display_name": "Python 3",
   "language": "python",
   "name": "python3"
  },
  "language_info": {
   "codemirror_mode": {
    "name": "ipython",
    "version": 3
   },
   "file_extension": ".py",
   "mimetype": "text/x-python",
   "name": "python",
   "nbconvert_exporter": "python",
   "pygments_lexer": "ipython3",
   "version": "3.7.4"
  }
 },
 "nbformat": 4,
 "nbformat_minor": 2
}
