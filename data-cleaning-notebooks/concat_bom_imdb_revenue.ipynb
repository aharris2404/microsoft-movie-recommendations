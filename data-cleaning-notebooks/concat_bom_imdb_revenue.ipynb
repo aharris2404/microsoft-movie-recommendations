{
 "cells": [
  {
   "cell_type": "code",
   "execution_count": 84,
   "metadata": {},
   "outputs": [
    {
     "name": "stdout",
     "output_type": "stream",
     "text": [
      "bom_imdb_revenue_concatenated.csv\r\n",
      "bom.movie_gross.cleaned_for_concat.csv\r\n",
      "bom.movie_gross.csv.gz\r\n",
      "columns_in_each_csv.csv\r\n",
      "imdb.name.basics.csv.gz\r\n",
      "imdb.title.akas.csv.gz\r\n",
      "imdb.title.basics.csv.gz\r\n",
      "imdb.title.crew.csv.gz\r\n",
      "imdb.title.principals.csv.gz\r\n",
      "imdb.title.ratings.csv.gz\r\n",
      "rt.movie_info.tsv.gz\r\n",
      "rt.reviews.tsv.gz\r\n",
      "tmdb.movies.csv.gz\r\n",
      "tn.movie_budgets.cleaned_for_concatenation.csv\r\n",
      "tn.movie_budgets.csv.gz\r\n"
     ]
    }
   ],
   "source": [
    "!ls ../data"
   ]
  },
  {
   "cell_type": "code",
   "execution_count": 74,
   "metadata": {},
   "outputs": [],
   "source": [
    "import pandas as pd\n",
    "import numpy as np"
   ]
  },
  {
   "cell_type": "code",
   "execution_count": 6,
   "metadata": {},
   "outputs": [],
   "source": [
    "bom = pd.read_csv('../data/bom.movie_gross.cleaned_for_concat.csv')\n",
    "tn = pd.read_csv('../data/tn.movie_budgets.cleaned_for_concatenation.csv')"
   ]
  },
  {
   "cell_type": "code",
   "execution_count": 27,
   "metadata": {},
   "outputs": [
    {
     "name": "stdout",
     "output_type": "stream",
     "text": [
      "<class 'pandas.core.frame.DataFrame'>\n",
      "RangeIndex: 9169 entries, 0 to 9168\n",
      "Data columns (total 5 columns):\n",
      "Unnamed: 0    9169 non-null int64\n",
      "dom_gross     9141 non-null float64\n",
      "for_gross     7814 non-null float64\n",
      "title         9169 non-null object\n",
      "year          9169 non-null int64\n",
      "dtypes: float64(2), int64(2), object(1)\n",
      "memory usage: 358.3+ KB\n"
     ]
    }
   ],
   "source": [
    "concat_df = pd.concat([bom, tn], ignore_index=True, sort=True)\n",
    "concat_df.info()"
   ]
  },
  {
   "cell_type": "code",
   "execution_count": 40,
   "metadata": {},
   "outputs": [
    {
     "data": {
      "text/html": [
       "<div>\n",
       "<style scoped>\n",
       "    .dataframe tbody tr th:only-of-type {\n",
       "        vertical-align: middle;\n",
       "    }\n",
       "\n",
       "    .dataframe tbody tr th {\n",
       "        vertical-align: top;\n",
       "    }\n",
       "\n",
       "    .dataframe thead th {\n",
       "        text-align: right;\n",
       "    }\n",
       "</style>\n",
       "<table border=\"1\" class=\"dataframe\">\n",
       "  <thead>\n",
       "    <tr style=\"text-align: right;\">\n",
       "      <th></th>\n",
       "      <th>Unnamed: 0</th>\n",
       "      <th>dom_gross</th>\n",
       "      <th>for_gross</th>\n",
       "      <th>title</th>\n",
       "      <th>year</th>\n",
       "    </tr>\n",
       "  </thead>\n",
       "  <tbody>\n",
       "    <tr>\n",
       "      <td>0</td>\n",
       "      <td>0</td>\n",
       "      <td>415000000.0</td>\n",
       "      <td>652000000.0</td>\n",
       "      <td>Toy Story 3</td>\n",
       "      <td>2010</td>\n",
       "    </tr>\n",
       "    <tr>\n",
       "      <td>1</td>\n",
       "      <td>1</td>\n",
       "      <td>334200000.0</td>\n",
       "      <td>691300000.0</td>\n",
       "      <td>Alice in Wonderland (2010)</td>\n",
       "      <td>2010</td>\n",
       "    </tr>\n",
       "    <tr>\n",
       "      <td>2</td>\n",
       "      <td>2</td>\n",
       "      <td>296000000.0</td>\n",
       "      <td>664300000.0</td>\n",
       "      <td>Harry Potter and the Deathly Hallows Part 1</td>\n",
       "      <td>2010</td>\n",
       "    </tr>\n",
       "    <tr>\n",
       "      <td>3</td>\n",
       "      <td>3</td>\n",
       "      <td>292600000.0</td>\n",
       "      <td>535700000.0</td>\n",
       "      <td>Inception</td>\n",
       "      <td>2010</td>\n",
       "    </tr>\n",
       "    <tr>\n",
       "      <td>4</td>\n",
       "      <td>4</td>\n",
       "      <td>238700000.0</td>\n",
       "      <td>513900000.0</td>\n",
       "      <td>Shrek Forever After</td>\n",
       "      <td>2010</td>\n",
       "    </tr>\n",
       "  </tbody>\n",
       "</table>\n",
       "</div>"
      ],
      "text/plain": [
       "   Unnamed: 0    dom_gross    for_gross  \\\n",
       "0           0  415000000.0  652000000.0   \n",
       "1           1  334200000.0  691300000.0   \n",
       "2           2  296000000.0  664300000.0   \n",
       "3           3  292600000.0  535700000.0   \n",
       "4           4  238700000.0  513900000.0   \n",
       "\n",
       "                                         title  year  \n",
       "0                                  Toy Story 3  2010  \n",
       "1                   Alice in Wonderland (2010)  2010  \n",
       "2  Harry Potter and the Deathly Hallows Part 1  2010  \n",
       "3                                    Inception  2010  \n",
       "4                          Shrek Forever After  2010  "
      ]
     },
     "execution_count": 40,
     "metadata": {},
     "output_type": "execute_result"
    }
   ],
   "source": [
    "concat_df.head()"
   ]
  },
  {
   "cell_type": "code",
   "execution_count": 52,
   "metadata": {},
   "outputs": [
    {
     "name": "stdout",
     "output_type": "stream",
     "text": [
      "<class 'pandas.core.frame.DataFrame'>\n",
      "Int64Index: 7846 entries, 0 to 9168\n",
      "Data columns (total 5 columns):\n",
      "Unnamed: 0    7846 non-null int64\n",
      "dom_gross     7818 non-null float64\n",
      "for_gross     6492 non-null float64\n",
      "title         7846 non-null object\n",
      "year          7846 non-null int64\n",
      "dtypes: float64(2), int64(2), object(1)\n",
      "memory usage: 367.8+ KB\n"
     ]
    }
   ],
   "source": [
    "concat_df = concat_df.drop_duplicates(subset='title')\n",
    "concat_df.info()"
   ]
  },
  {
   "cell_type": "code",
   "execution_count": 59,
   "metadata": {},
   "outputs": [
    {
     "data": {
      "text/html": [
       "<div>\n",
       "<style scoped>\n",
       "    .dataframe tbody tr th:only-of-type {\n",
       "        vertical-align: middle;\n",
       "    }\n",
       "\n",
       "    .dataframe tbody tr th {\n",
       "        vertical-align: top;\n",
       "    }\n",
       "\n",
       "    .dataframe thead th {\n",
       "        text-align: right;\n",
       "    }\n",
       "</style>\n",
       "<table border=\"1\" class=\"dataframe\">\n",
       "  <thead>\n",
       "    <tr style=\"text-align: right;\">\n",
       "      <th></th>\n",
       "      <th>dom_gross</th>\n",
       "      <th>for_gross</th>\n",
       "      <th>title</th>\n",
       "      <th>year</th>\n",
       "    </tr>\n",
       "  </thead>\n",
       "  <tbody>\n",
       "    <tr>\n",
       "      <td>0</td>\n",
       "      <td>415000000.0</td>\n",
       "      <td>652000000.0</td>\n",
       "      <td>Toy Story 3</td>\n",
       "      <td>2010</td>\n",
       "    </tr>\n",
       "    <tr>\n",
       "      <td>1</td>\n",
       "      <td>334200000.0</td>\n",
       "      <td>691300000.0</td>\n",
       "      <td>Alice in Wonderland (2010)</td>\n",
       "      <td>2010</td>\n",
       "    </tr>\n",
       "    <tr>\n",
       "      <td>2</td>\n",
       "      <td>296000000.0</td>\n",
       "      <td>664300000.0</td>\n",
       "      <td>Harry Potter and the Deathly Hallows Part 1</td>\n",
       "      <td>2010</td>\n",
       "    </tr>\n",
       "    <tr>\n",
       "      <td>3</td>\n",
       "      <td>292600000.0</td>\n",
       "      <td>535700000.0</td>\n",
       "      <td>Inception</td>\n",
       "      <td>2010</td>\n",
       "    </tr>\n",
       "    <tr>\n",
       "      <td>4</td>\n",
       "      <td>238700000.0</td>\n",
       "      <td>513900000.0</td>\n",
       "      <td>Shrek Forever After</td>\n",
       "      <td>2010</td>\n",
       "    </tr>\n",
       "  </tbody>\n",
       "</table>\n",
       "</div>"
      ],
      "text/plain": [
       "     dom_gross    for_gross                                        title  year\n",
       "0  415000000.0  652000000.0                                  Toy Story 3  2010\n",
       "1  334200000.0  691300000.0                   Alice in Wonderland (2010)  2010\n",
       "2  296000000.0  664300000.0  Harry Potter and the Deathly Hallows Part 1  2010\n",
       "3  292600000.0  535700000.0                                    Inception  2010\n",
       "4  238700000.0  513900000.0                          Shrek Forever After  2010"
      ]
     },
     "execution_count": 59,
     "metadata": {},
     "output_type": "execute_result"
    }
   ],
   "source": [
    "concat_df = concat_df.drop(columns=['Unnamed: 0'])\n",
    "concat_df.head()"
   ]
  },
  {
   "cell_type": "code",
   "execution_count": 60,
   "metadata": {},
   "outputs": [],
   "source": [
    "concat_df = concat_df[['title', 'year', 'dom_gross', 'for_gross']]"
   ]
  },
  {
   "cell_type": "code",
   "execution_count": 79,
   "metadata": {},
   "outputs": [
    {
     "data": {
      "text/plain": [
       "True"
      ]
     },
     "execution_count": 79,
     "metadata": {},
     "output_type": "execute_result"
    }
   ],
   "source": [
    "concat_df.iloc[3045, 3]"
   ]
  },
  {
   "cell_type": "code",
   "execution_count": 80,
   "metadata": {},
   "outputs": [],
   "source": [
    "x = zip(concat_df.dom_gross, concat_df.for_gross)"
   ]
  },
  {
   "cell_type": "code",
   "execution_count": 81,
   "metadata": {},
   "outputs": [],
   "source": [
    "#concat_df['world_gross'] = pd.Series([concat_df.dom_gross[i] + concat_df.for_gross[i] if  for i in range(len(concat_df.dom_gross))], index=concat_df.index)\n",
    "\n",
    "world_gross = []\n",
    "\n",
    "for domestic, foreign in zip(concat_df.dom_gross, concat_df.for_gross):\n",
    "    if np.isnan(foreign):\n",
    "        world_gross.append(np.nan)\n",
    "    else:\n",
    "        world_gross.append(domestic + foreign)\n",
    "        \n",
    "concat_df['world_gross'] = pd.Series(world_gross, index=concat_df.index)"
   ]
  },
  {
   "cell_type": "code",
   "execution_count": 82,
   "metadata": {},
   "outputs": [
    {
     "data": {
      "text/html": [
       "<div>\n",
       "<style scoped>\n",
       "    .dataframe tbody tr th:only-of-type {\n",
       "        vertical-align: middle;\n",
       "    }\n",
       "\n",
       "    .dataframe tbody tr th {\n",
       "        vertical-align: top;\n",
       "    }\n",
       "\n",
       "    .dataframe thead th {\n",
       "        text-align: right;\n",
       "    }\n",
       "</style>\n",
       "<table border=\"1\" class=\"dataframe\">\n",
       "  <thead>\n",
       "    <tr style=\"text-align: right;\">\n",
       "      <th></th>\n",
       "      <th>title</th>\n",
       "      <th>year</th>\n",
       "      <th>dom_gross</th>\n",
       "      <th>for_gross</th>\n",
       "      <th>world_gross</th>\n",
       "    </tr>\n",
       "  </thead>\n",
       "  <tbody>\n",
       "    <tr>\n",
       "      <td>0</td>\n",
       "      <td>Toy Story 3</td>\n",
       "      <td>2010</td>\n",
       "      <td>415000000.0</td>\n",
       "      <td>652000000.0</td>\n",
       "      <td>1.067000e+09</td>\n",
       "    </tr>\n",
       "    <tr>\n",
       "      <td>1</td>\n",
       "      <td>Alice in Wonderland (2010)</td>\n",
       "      <td>2010</td>\n",
       "      <td>334200000.0</td>\n",
       "      <td>691300000.0</td>\n",
       "      <td>1.025500e+09</td>\n",
       "    </tr>\n",
       "    <tr>\n",
       "      <td>2</td>\n",
       "      <td>Harry Potter and the Deathly Hallows Part 1</td>\n",
       "      <td>2010</td>\n",
       "      <td>296000000.0</td>\n",
       "      <td>664300000.0</td>\n",
       "      <td>9.603000e+08</td>\n",
       "    </tr>\n",
       "    <tr>\n",
       "      <td>3</td>\n",
       "      <td>Inception</td>\n",
       "      <td>2010</td>\n",
       "      <td>292600000.0</td>\n",
       "      <td>535700000.0</td>\n",
       "      <td>8.283000e+08</td>\n",
       "    </tr>\n",
       "    <tr>\n",
       "      <td>4</td>\n",
       "      <td>Shrek Forever After</td>\n",
       "      <td>2010</td>\n",
       "      <td>238700000.0</td>\n",
       "      <td>513900000.0</td>\n",
       "      <td>7.526000e+08</td>\n",
       "    </tr>\n",
       "  </tbody>\n",
       "</table>\n",
       "</div>"
      ],
      "text/plain": [
       "                                         title  year    dom_gross  \\\n",
       "0                                  Toy Story 3  2010  415000000.0   \n",
       "1                   Alice in Wonderland (2010)  2010  334200000.0   \n",
       "2  Harry Potter and the Deathly Hallows Part 1  2010  296000000.0   \n",
       "3                                    Inception  2010  292600000.0   \n",
       "4                          Shrek Forever After  2010  238700000.0   \n",
       "\n",
       "     for_gross   world_gross  \n",
       "0  652000000.0  1.067000e+09  \n",
       "1  691300000.0  1.025500e+09  \n",
       "2  664300000.0  9.603000e+08  \n",
       "3  535700000.0  8.283000e+08  \n",
       "4  513900000.0  7.526000e+08  "
      ]
     },
     "execution_count": 82,
     "metadata": {},
     "output_type": "execute_result"
    }
   ],
   "source": [
    "concat_df.head()"
   ]
  },
  {
   "cell_type": "code",
   "execution_count": 83,
   "metadata": {},
   "outputs": [],
   "source": [
    "concat_df.to_csv(path_or_buf='../data/bom_imdb_revenue_concatenated.csv')"
   ]
  }
 ],
 "metadata": {
  "kernelspec": {
   "display_name": "Python 3",
   "language": "python",
   "name": "python3"
  },
  "language_info": {
   "codemirror_mode": {
    "name": "ipython",
    "version": 3
   },
   "file_extension": ".py",
   "mimetype": "text/x-python",
   "name": "python",
   "nbconvert_exporter": "python",
   "pygments_lexer": "ipython3",
   "version": "3.7.4"
  }
 },
 "nbformat": 4,
 "nbformat_minor": 2
}
