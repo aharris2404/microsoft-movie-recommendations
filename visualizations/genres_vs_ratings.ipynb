{
 "cells": [
  {
   "cell_type": "code",
   "execution_count": 1,
   "metadata": {},
   "outputs": [],
   "source": [
    "import pandas as pd\n",
    "import numpy as np\n",
    "import seaborn as sns"
   ]
  },
  {
   "cell_type": "code",
   "execution_count": 3,
   "metadata": {},
   "outputs": [],
   "source": [
    "genres_ratings_df = pd.read_csv('../data/full_df.csv', index_col='Unnamed: 0')"
   ]
  },
  {
   "cell_type": "code",
   "execution_count": 4,
   "metadata": {},
   "outputs": [],
   "source": [
    "def genre_descriptive_stats(df, key_col): #key_column will be what we want to run descriptive stats on\n",
    "    mean = np.ndarray(0)\n",
    "    median = np.ndarray(0)\n",
    "    std = np.ndarray(0)\n",
    "\n",
    "    df_columns_to_use = df.columns[4:] #change this as needed\n",
    "\n",
    "    for i, genre in enumerate(df_columns_to_use):\n",
    "        mean = np.append(mean, df[key_col].loc[df[genre]].mean())\n",
    "        median = np.append(median, df[key_col].loc[df[genre]].median())\n",
    "        std = np.append(std, df[key_col].loc[df[genre]].std())\n",
    "\n",
    "    d1 = np.append([mean], [median], axis=0)\n",
    "    d2 = np.append(d1, [std], axis=0)\n",
    "    d3 = np.transpose(d2)\n",
    "    descr_stats_df = pd.DataFrame(data=d3, columns=['mean', 'median', 'standard_deviation'], index=list(df_columns_to_use))\n",
    "    return descr_stats_df"
   ]
  },
  {
   "cell_type": "code",
   "execution_count": null,
   "metadata": {},
   "outputs": [],
   "source": [
    "genre_descriptive_stats(g)"
   ]
  }
 ],
 "metadata": {
  "kernelspec": {
   "display_name": "Python 3",
   "language": "python",
   "name": "python3"
  },
  "language_info": {
   "codemirror_mode": {
    "name": "ipython",
    "version": 3
   },
   "file_extension": ".py",
   "mimetype": "text/x-python",
   "name": "python",
   "nbconvert_exporter": "python",
   "pygments_lexer": "ipython3",
   "version": "3.7.4"
  }
 },
 "nbformat": 4,
 "nbformat_minor": 2
}
