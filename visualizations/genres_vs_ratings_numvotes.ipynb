{
 "cells": [
  {
   "cell_type": "code",
   "execution_count": 1,
   "metadata": {},
   "outputs": [],
   "source": [
    "import pandas as pd\n",
    "import numpy as np\n",
    "import seaborn as sns\n",
    "from matplotlib import pyplot as plt"
   ]
  },
  {
   "cell_type": "code",
   "execution_count": 2,
   "metadata": {},
   "outputs": [],
   "source": [
    "genres_ratings_df = pd.read_csv('../data/full_df.csv', index_col='Unnamed: 0')"
   ]
  },
  {
   "cell_type": "code",
   "execution_count": 3,
   "metadata": {},
   "outputs": [
    {
     "data": {
      "text/html": [
       "<div>\n",
       "<style scoped>\n",
       "    .dataframe tbody tr th:only-of-type {\n",
       "        vertical-align: middle;\n",
       "    }\n",
       "\n",
       "    .dataframe tbody tr th {\n",
       "        vertical-align: top;\n",
       "    }\n",
       "\n",
       "    .dataframe thead th {\n",
       "        text-align: right;\n",
       "    }\n",
       "</style>\n",
       "<table border=\"1\" class=\"dataframe\">\n",
       "  <thead>\n",
       "    <tr style=\"text-align: right;\">\n",
       "      <th></th>\n",
       "      <th>averagerating</th>\n",
       "      <th>numvotes</th>\n",
       "      <th>title</th>\n",
       "      <th>genres</th>\n",
       "      <th>Sport</th>\n",
       "      <th>Fantasy</th>\n",
       "      <th>Mystery</th>\n",
       "      <th>War</th>\n",
       "      <th>Biography</th>\n",
       "      <th>Drama</th>\n",
       "      <th>...</th>\n",
       "      <th>Horror</th>\n",
       "      <th>Family</th>\n",
       "      <th>Adventure</th>\n",
       "      <th>Romance</th>\n",
       "      <th>Documentary</th>\n",
       "      <th>Sci-Fi</th>\n",
       "      <th>Action</th>\n",
       "      <th>Thriller</th>\n",
       "      <th>Music</th>\n",
       "      <th>Animation</th>\n",
       "    </tr>\n",
       "  </thead>\n",
       "  <tbody>\n",
       "    <tr>\n",
       "      <td>0</td>\n",
       "      <td>8.3</td>\n",
       "      <td>31</td>\n",
       "      <td>Laiye Je Yaarian</td>\n",
       "      <td>Romance</td>\n",
       "      <td>False</td>\n",
       "      <td>False</td>\n",
       "      <td>False</td>\n",
       "      <td>False</td>\n",
       "      <td>False</td>\n",
       "      <td>False</td>\n",
       "      <td>...</td>\n",
       "      <td>False</td>\n",
       "      <td>False</td>\n",
       "      <td>False</td>\n",
       "      <td>True</td>\n",
       "      <td>False</td>\n",
       "      <td>False</td>\n",
       "      <td>False</td>\n",
       "      <td>False</td>\n",
       "      <td>False</td>\n",
       "      <td>False</td>\n",
       "    </tr>\n",
       "    <tr>\n",
       "      <td>1</td>\n",
       "      <td>8.9</td>\n",
       "      <td>559</td>\n",
       "      <td>Borderless</td>\n",
       "      <td>Documentary</td>\n",
       "      <td>False</td>\n",
       "      <td>False</td>\n",
       "      <td>False</td>\n",
       "      <td>False</td>\n",
       "      <td>False</td>\n",
       "      <td>False</td>\n",
       "      <td>...</td>\n",
       "      <td>False</td>\n",
       "      <td>False</td>\n",
       "      <td>False</td>\n",
       "      <td>False</td>\n",
       "      <td>True</td>\n",
       "      <td>False</td>\n",
       "      <td>False</td>\n",
       "      <td>False</td>\n",
       "      <td>False</td>\n",
       "      <td>False</td>\n",
       "    </tr>\n",
       "    <tr>\n",
       "      <td>2</td>\n",
       "      <td>6.4</td>\n",
       "      <td>20</td>\n",
       "      <td>Just Inès</td>\n",
       "      <td>Drama</td>\n",
       "      <td>False</td>\n",
       "      <td>False</td>\n",
       "      <td>False</td>\n",
       "      <td>False</td>\n",
       "      <td>False</td>\n",
       "      <td>True</td>\n",
       "      <td>...</td>\n",
       "      <td>False</td>\n",
       "      <td>False</td>\n",
       "      <td>False</td>\n",
       "      <td>False</td>\n",
       "      <td>False</td>\n",
       "      <td>False</td>\n",
       "      <td>False</td>\n",
       "      <td>False</td>\n",
       "      <td>False</td>\n",
       "      <td>False</td>\n",
       "    </tr>\n",
       "    <tr>\n",
       "      <td>3</td>\n",
       "      <td>4.2</td>\n",
       "      <td>50352</td>\n",
       "      <td>The Legend of Hercules</td>\n",
       "      <td>Action,Adventure,Fantasy</td>\n",
       "      <td>False</td>\n",
       "      <td>True</td>\n",
       "      <td>False</td>\n",
       "      <td>False</td>\n",
       "      <td>False</td>\n",
       "      <td>False</td>\n",
       "      <td>...</td>\n",
       "      <td>False</td>\n",
       "      <td>False</td>\n",
       "      <td>True</td>\n",
       "      <td>False</td>\n",
       "      <td>False</td>\n",
       "      <td>False</td>\n",
       "      <td>True</td>\n",
       "      <td>False</td>\n",
       "      <td>False</td>\n",
       "      <td>False</td>\n",
       "    </tr>\n",
       "    <tr>\n",
       "      <td>4</td>\n",
       "      <td>6.5</td>\n",
       "      <td>21</td>\n",
       "      <td>Até Onde?</td>\n",
       "      <td>Mystery,Thriller</td>\n",
       "      <td>False</td>\n",
       "      <td>False</td>\n",
       "      <td>True</td>\n",
       "      <td>False</td>\n",
       "      <td>False</td>\n",
       "      <td>False</td>\n",
       "      <td>...</td>\n",
       "      <td>False</td>\n",
       "      <td>False</td>\n",
       "      <td>False</td>\n",
       "      <td>False</td>\n",
       "      <td>False</td>\n",
       "      <td>False</td>\n",
       "      <td>False</td>\n",
       "      <td>True</td>\n",
       "      <td>False</td>\n",
       "      <td>False</td>\n",
       "    </tr>\n",
       "  </tbody>\n",
       "</table>\n",
       "<p>5 rows × 23 columns</p>\n",
       "</div>"
      ],
      "text/plain": [
       "   averagerating  numvotes                   title                    genres  \\\n",
       "0            8.3        31        Laiye Je Yaarian                   Romance   \n",
       "1            8.9       559              Borderless               Documentary   \n",
       "2            6.4        20               Just Inès                     Drama   \n",
       "3            4.2     50352  The Legend of Hercules  Action,Adventure,Fantasy   \n",
       "4            6.5        21               Até Onde?          Mystery,Thriller   \n",
       "\n",
       "   Sport  Fantasy  Mystery    War  Biography  Drama  ...  Horror  Family  \\\n",
       "0  False    False    False  False      False  False  ...   False   False   \n",
       "1  False    False    False  False      False  False  ...   False   False   \n",
       "2  False    False    False  False      False   True  ...   False   False   \n",
       "3  False     True    False  False      False  False  ...   False   False   \n",
       "4  False    False     True  False      False  False  ...   False   False   \n",
       "\n",
       "   Adventure  Romance  Documentary  Sci-Fi  Action  Thriller  Music  Animation  \n",
       "0      False     True        False   False   False     False  False      False  \n",
       "1      False    False         True   False   False     False  False      False  \n",
       "2      False    False        False   False   False     False  False      False  \n",
       "3       True    False        False   False    True     False  False      False  \n",
       "4      False    False        False   False   False      True  False      False  \n",
       "\n",
       "[5 rows x 23 columns]"
      ]
     },
     "execution_count": 3,
     "metadata": {},
     "output_type": "execute_result"
    }
   ],
   "source": [
    "genres_ratings_df.head()"
   ]
  },
  {
   "cell_type": "code",
   "execution_count": 4,
   "metadata": {},
   "outputs": [],
   "source": [
    "def genre_descriptive_stats(df, key_col): #key_column will be what we want to run descriptive stats on\n",
    "    mean = np.ndarray(0)\n",
    "    median = np.ndarray(0)\n",
    "    std = np.ndarray(0)\n",
    "\n",
    "    df_columns_to_use = df.columns[4:] #change this as needed\n",
    "\n",
    "    for i, genre in enumerate(df_columns_to_use):\n",
    "        mean = np.append(mean, df[key_col].loc[df[genre]].mean())\n",
    "        median = np.append(median, df[key_col].loc[df[genre]].median())\n",
    "        std = np.append(std, df[key_col].loc[df[genre]].std())\n",
    "\n",
    "    d1 = np.append([mean], [median], axis=0)\n",
    "    d2 = np.append(d1, [std], axis=0)\n",
    "    d3 = np.transpose(d2)\n",
    "    descr_stats_df = pd.DataFrame(data=d3, columns=['mean', 'median', 'standard_deviation'], index=list(df_columns_to_use))\n",
    "    return descr_stats_df"
   ]
  },
  {
   "cell_type": "code",
   "execution_count": 5,
   "metadata": {},
   "outputs": [
    {
     "data": {
      "text/html": [
       "<div>\n",
       "<style scoped>\n",
       "    .dataframe tbody tr th:only-of-type {\n",
       "        vertical-align: middle;\n",
       "    }\n",
       "\n",
       "    .dataframe tbody tr th {\n",
       "        vertical-align: top;\n",
       "    }\n",
       "\n",
       "    .dataframe thead th {\n",
       "        text-align: right;\n",
       "    }\n",
       "</style>\n",
       "<table border=\"1\" class=\"dataframe\">\n",
       "  <thead>\n",
       "    <tr style=\"text-align: right;\">\n",
       "      <th></th>\n",
       "      <th>mean</th>\n",
       "      <th>median</th>\n",
       "      <th>standard_deviation</th>\n",
       "    </tr>\n",
       "  </thead>\n",
       "  <tbody>\n",
       "    <tr>\n",
       "      <td>Sport</td>\n",
       "      <td>2886.981900</td>\n",
       "      <td>61.0</td>\n",
       "      <td>20978.125375</td>\n",
       "    </tr>\n",
       "    <tr>\n",
       "      <td>Fantasy</td>\n",
       "      <td>12654.448172</td>\n",
       "      <td>85.0</td>\n",
       "      <td>61114.272208</td>\n",
       "    </tr>\n",
       "    <tr>\n",
       "      <td>Mystery</td>\n",
       "      <td>8373.535871</td>\n",
       "      <td>112.0</td>\n",
       "      <td>46891.042344</td>\n",
       "    </tr>\n",
       "    <tr>\n",
       "      <td>War</td>\n",
       "      <td>3188.078849</td>\n",
       "      <td>81.0</td>\n",
       "      <td>19785.094039</td>\n",
       "    </tr>\n",
       "    <tr>\n",
       "      <td>Biography</td>\n",
       "      <td>5584.465536</td>\n",
       "      <td>39.0</td>\n",
       "      <td>39808.707176</td>\n",
       "    </tr>\n",
       "    <tr>\n",
       "      <td>Drama</td>\n",
       "      <td>3936.406132</td>\n",
       "      <td>70.0</td>\n",
       "      <td>29309.494527</td>\n",
       "    </tr>\n",
       "    <tr>\n",
       "      <td>Comedy</td>\n",
       "      <td>4249.199357</td>\n",
       "      <td>95.0</td>\n",
       "      <td>28139.239252</td>\n",
       "    </tr>\n",
       "    <tr>\n",
       "      <td>History</td>\n",
       "      <td>2607.202443</td>\n",
       "      <td>37.0</td>\n",
       "      <td>23051.057476</td>\n",
       "    </tr>\n",
       "    <tr>\n",
       "      <td>Crime</td>\n",
       "      <td>8645.817128</td>\n",
       "      <td>160.0</td>\n",
       "      <td>42463.339313</td>\n",
       "    </tr>\n",
       "    <tr>\n",
       "      <td>Horror</td>\n",
       "      <td>2963.751847</td>\n",
       "      <td>75.0</td>\n",
       "      <td>18195.366376</td>\n",
       "    </tr>\n",
       "    <tr>\n",
       "      <td>Family</td>\n",
       "      <td>2434.624692</td>\n",
       "      <td>53.0</td>\n",
       "      <td>22525.933165</td>\n",
       "    </tr>\n",
       "    <tr>\n",
       "      <td>Adventure</td>\n",
       "      <td>22360.306887</td>\n",
       "      <td>108.5</td>\n",
       "      <td>94298.273639</td>\n",
       "    </tr>\n",
       "    <tr>\n",
       "      <td>Romance</td>\n",
       "      <td>4188.793690</td>\n",
       "      <td>116.0</td>\n",
       "      <td>23178.216217</td>\n",
       "    </tr>\n",
       "    <tr>\n",
       "      <td>Documentary</td>\n",
       "      <td>267.676614</td>\n",
       "      <td>19.0</td>\n",
       "      <td>1874.462203</td>\n",
       "    </tr>\n",
       "    <tr>\n",
       "      <td>Sci-Fi</td>\n",
       "      <td>20083.570029</td>\n",
       "      <td>116.0</td>\n",
       "      <td>99204.521431</td>\n",
       "    </tr>\n",
       "    <tr>\n",
       "      <td>Action</td>\n",
       "      <td>15019.894996</td>\n",
       "      <td>166.0</td>\n",
       "      <td>72062.109806</td>\n",
       "    </tr>\n",
       "    <tr>\n",
       "      <td>Thriller</td>\n",
       "      <td>6075.018105</td>\n",
       "      <td>126.0</td>\n",
       "      <td>39696.845089</td>\n",
       "    </tr>\n",
       "    <tr>\n",
       "      <td>Music</td>\n",
       "      <td>2264.382920</td>\n",
       "      <td>39.0</td>\n",
       "      <td>20103.692615</td>\n",
       "    </tr>\n",
       "    <tr>\n",
       "      <td>Animation</td>\n",
       "      <td>8315.464730</td>\n",
       "      <td>97.0</td>\n",
       "      <td>42344.035485</td>\n",
       "    </tr>\n",
       "  </tbody>\n",
       "</table>\n",
       "</div>"
      ],
      "text/plain": [
       "                     mean  median  standard_deviation\n",
       "Sport         2886.981900    61.0        20978.125375\n",
       "Fantasy      12654.448172    85.0        61114.272208\n",
       "Mystery       8373.535871   112.0        46891.042344\n",
       "War           3188.078849    81.0        19785.094039\n",
       "Biography     5584.465536    39.0        39808.707176\n",
       "Drama         3936.406132    70.0        29309.494527\n",
       "Comedy        4249.199357    95.0        28139.239252\n",
       "History       2607.202443    37.0        23051.057476\n",
       "Crime         8645.817128   160.0        42463.339313\n",
       "Horror        2963.751847    75.0        18195.366376\n",
       "Family        2434.624692    53.0        22525.933165\n",
       "Adventure    22360.306887   108.5        94298.273639\n",
       "Romance       4188.793690   116.0        23178.216217\n",
       "Documentary    267.676614    19.0         1874.462203\n",
       "Sci-Fi       20083.570029   116.0        99204.521431\n",
       "Action       15019.894996   166.0        72062.109806\n",
       "Thriller      6075.018105   126.0        39696.845089\n",
       "Music         2264.382920    39.0        20103.692615\n",
       "Animation     8315.464730    97.0        42344.035485"
      ]
     },
     "metadata": {},
     "output_type": "display_data"
    }
   ],
   "source": [
    "genre_descrip_df = genre_descriptive_stats(genres_ratings_df, 'numvotes')\n",
    "display(genre_descrip_df)"
   ]
  },
  {
   "cell_type": "code",
   "execution_count": 24,
   "metadata": {},
   "outputs": [
    {
     "data": {
      "text/plain": [
       "Adventure    22360.306887\n",
       "Sci-Fi       20083.570029\n",
       "Action       15019.894996\n",
       "Name: mean, dtype: float64"
      ]
     },
     "execution_count": 24,
     "metadata": {},
     "output_type": "execute_result"
    }
   ],
   "source": [
    "genre_descrip_df['mean'].sort_values(ascending=False)"
   ]
  },
  {
   "cell_type": "code",
   "execution_count": 6,
   "metadata": {},
   "outputs": [
    {
     "data": {
      "text/plain": [
       "Index(['Sport', 'Fantasy', 'Mystery', 'War', 'Biography', 'Drama', 'Comedy',\n",
       "       'History', 'Crime', 'Horror', 'Family', 'Adventure', 'Romance',\n",
       "       'Documentary', 'Sci-Fi', 'Action', 'Thriller', 'Music', 'Animation'],\n",
       "      dtype='object')"
      ]
     },
     "execution_count": 6,
     "metadata": {},
     "output_type": "execute_result"
    }
   ],
   "source": [
    "genre_descrip_df.index"
   ]
  },
  {
   "cell_type": "code",
   "execution_count": 53,
   "metadata": {},
   "outputs": [
    {
     "data": {
      "text/plain": [
       "<matplotlib.axes._subplots.AxesSubplot at 0x7f7e80bc9d90>"
      ]
     },
     "execution_count": 53,
     "metadata": {},
     "output_type": "execute_result"
    },
    {
     "data": {
      "image/png": "[encoded data removed]",
      "text/plain": [
       "<Figure size 1440x864 with 1 Axes>"
      ]
     },
     "metadata": {
      "needs_background": "light"
     },
     "output_type": "display_data"
    }
   ],
   "source": [
    "#plotting mean numvotes\n",
    "barplot_dims = (20, 12)\n",
    "fig, ax = plt.subplots(figsize = barplot_dims)\n",
    "mean_series_sorted = genre_descrip_df['mean'].sort_values(ascending=False)\n",
    "sns.barplot(x=mean_series_sorted.index, y=mean_series_sorted, ax=ax, palette='deep')"
   ]
  },
  {
   "cell_type": "code",
   "execution_count": 50,
   "metadata": {},
   "outputs": [
    {
     "data": {
      "text/plain": [
       "<matplotlib.axes._subplots.AxesSubplot at 0x7f7e80e65150>"
      ]
     },
     "execution_count": 50,
     "metadata": {},
     "output_type": "execute_result"
    },
    {
     "data": {
      "image/png": "[encoded data removed]",
      "text/plain": [
       "<Figure size 1440x864 with 1 Axes>"
      ]
     },
     "metadata": {
      "needs_background": "light"
     },
     "output_type": "display_data"
    }
   ],
   "source": [
    "#plotting top 3 and bottom 3 numvotes\n",
    "barplot_dims = (20, 12)\n",
    "fig, ax = plt.subplots(figsize = barplot_dims)\n",
    "mean_series_top_bottom = pd.concat([mean_series_sorted.head(3), mean_series_sorted.tail(3)])\n",
    "sns.barplot(x=mean_series_top_bottom.index, y=mean_series_top_bottom, ax=ax, palette=sns.color_palette(\"Blues_r\"))"
   ]
  },
  {
   "cell_type": "code",
   "execution_count": 21,
   "metadata": {},
   "outputs": [
    {
     "data": {
      "text/plain": [
       "<matplotlib.axes._subplots.AxesSubplot at 0x7f7e81955910>"
      ]
     },
     "execution_count": 21,
     "metadata": {},
     "output_type": "execute_result"
    },
    {
     "data": {
      "image/png": "[encoded data removed]",
      "text/plain": [
       "<Figure size 1440x864 with 1 Axes>"
      ]
     },
     "metadata": {
      "needs_background": "light"
     },
     "output_type": "display_data"
    }
   ],
   "source": [
    "barplot_dims = (20, 12)\n",
    "fig, ax = plt.subplots(figsize = barplot_dims)\n",
    "med_series_sorted = genre_descrip_df['median'].sort_values(ascending=False)\n",
    "sns.barplot(x=med_series_sorted.index, y=med_series_sorted, ax=ax)"
   ]
  }
 ],
 "metadata": {
  "kernelspec": {
   "display_name": "Python 3",
   "language": "python",
   "name": "python3"
  },
  "language_info": {
   "codemirror_mode": {
    "name": "ipython",
    "version": 3
   },
   "file_extension": ".py",
   "mimetype": "text/x-python",
   "name": "python",
   "nbconvert_exporter": "python",
   "pygments_lexer": "ipython3",
   "version": "3.7.4"
  }
 },
 "nbformat": 4,
 "nbformat_minor": 2
}
