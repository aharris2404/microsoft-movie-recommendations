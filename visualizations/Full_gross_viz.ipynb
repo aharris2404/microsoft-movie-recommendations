{
 "cells": [
  {
   "cell_type": "code",
   "execution_count": 2,
   "metadata": {},
   "outputs": [],
   "source": [
    "import numpy as np\n",
    "import pandas as pd\n",
    "import matplotlib.pyplot as plt\n",
    "import seaborn as sns\n",
    "sns.set_style(\"darkgrid\")"
   ]
  },
  {
   "cell_type": "code",
   "execution_count": 3,
   "metadata": {},
   "outputs": [],
   "source": [
    "df = pd.read_csv('../data/full_gross.csv', index_col='Unnamed: 0')"
   ]
  },
  {
   "cell_type": "code",
   "execution_count": 4,
   "metadata": {},
   "outputs": [
    {
     "data": {
      "text/html": [
       "<div>\n",
       "<style scoped>\n",
       "    .dataframe tbody tr th:only-of-type {\n",
       "        vertical-align: middle;\n",
       "    }\n",
       "\n",
       "    .dataframe tbody tr th {\n",
       "        vertical-align: top;\n",
       "    }\n",
       "\n",
       "    .dataframe thead th {\n",
       "        text-align: right;\n",
       "    }\n",
       "</style>\n",
       "<table border=\"1\" class=\"dataframe\">\n",
       "  <thead>\n",
       "    <tr style=\"text-align: right;\">\n",
       "      <th></th>\n",
       "      <th>averagerating</th>\n",
       "      <th>numvotes</th>\n",
       "      <th>title</th>\n",
       "      <th>genres</th>\n",
       "      <th>Sport</th>\n",
       "      <th>Fantasy</th>\n",
       "      <th>Mystery</th>\n",
       "      <th>War</th>\n",
       "      <th>Biography</th>\n",
       "      <th>Drama</th>\n",
       "      <th>...</th>\n",
       "      <th>Documentary</th>\n",
       "      <th>Sci-Fi</th>\n",
       "      <th>Action</th>\n",
       "      <th>Thriller</th>\n",
       "      <th>Music</th>\n",
       "      <th>Animation</th>\n",
       "      <th>year</th>\n",
       "      <th>dom_gross</th>\n",
       "      <th>for_gross</th>\n",
       "      <th>world_gross</th>\n",
       "    </tr>\n",
       "  </thead>\n",
       "  <tbody>\n",
       "    <tr>\n",
       "      <td>0</td>\n",
       "      <td>4.2</td>\n",
       "      <td>50352</td>\n",
       "      <td>The Legend of Hercules</td>\n",
       "      <td>Action,Adventure,Fantasy</td>\n",
       "      <td>False</td>\n",
       "      <td>True</td>\n",
       "      <td>False</td>\n",
       "      <td>False</td>\n",
       "      <td>False</td>\n",
       "      <td>False</td>\n",
       "      <td>...</td>\n",
       "      <td>False</td>\n",
       "      <td>False</td>\n",
       "      <td>True</td>\n",
       "      <td>False</td>\n",
       "      <td>False</td>\n",
       "      <td>False</td>\n",
       "      <td>2014</td>\n",
       "      <td>18800000.0</td>\n",
       "      <td>42400000.0</td>\n",
       "      <td>61200000.0</td>\n",
       "    </tr>\n",
       "    <tr>\n",
       "      <td>1</td>\n",
       "      <td>5.1</td>\n",
       "      <td>8296</td>\n",
       "      <td>Baggage Claim</td>\n",
       "      <td>Comedy</td>\n",
       "      <td>False</td>\n",
       "      <td>False</td>\n",
       "      <td>False</td>\n",
       "      <td>False</td>\n",
       "      <td>False</td>\n",
       "      <td>False</td>\n",
       "      <td>...</td>\n",
       "      <td>False</td>\n",
       "      <td>False</td>\n",
       "      <td>False</td>\n",
       "      <td>False</td>\n",
       "      <td>False</td>\n",
       "      <td>False</td>\n",
       "      <td>2013</td>\n",
       "      <td>21600000.0</td>\n",
       "      <td>887000.0</td>\n",
       "      <td>22487000.0</td>\n",
       "    </tr>\n",
       "    <tr>\n",
       "      <td>3</td>\n",
       "      <td>7.6</td>\n",
       "      <td>326657</td>\n",
       "      <td>Moneyball</td>\n",
       "      <td>Biography,Drama,Sport</td>\n",
       "      <td>True</td>\n",
       "      <td>False</td>\n",
       "      <td>False</td>\n",
       "      <td>False</td>\n",
       "      <td>True</td>\n",
       "      <td>True</td>\n",
       "      <td>...</td>\n",
       "      <td>False</td>\n",
       "      <td>False</td>\n",
       "      <td>False</td>\n",
       "      <td>False</td>\n",
       "      <td>False</td>\n",
       "      <td>False</td>\n",
       "      <td>2011</td>\n",
       "      <td>75600000.0</td>\n",
       "      <td>34600000.0</td>\n",
       "      <td>110200000.0</td>\n",
       "    </tr>\n",
       "    <tr>\n",
       "      <td>4</td>\n",
       "      <td>6.5</td>\n",
       "      <td>87288</td>\n",
       "      <td>Hereafter</td>\n",
       "      <td>Drama,Fantasy,Romance</td>\n",
       "      <td>False</td>\n",
       "      <td>True</td>\n",
       "      <td>False</td>\n",
       "      <td>False</td>\n",
       "      <td>False</td>\n",
       "      <td>True</td>\n",
       "      <td>...</td>\n",
       "      <td>False</td>\n",
       "      <td>False</td>\n",
       "      <td>False</td>\n",
       "      <td>False</td>\n",
       "      <td>False</td>\n",
       "      <td>False</td>\n",
       "      <td>2010</td>\n",
       "      <td>32700000.0</td>\n",
       "      <td>72500000.0</td>\n",
       "      <td>105200000.0</td>\n",
       "    </tr>\n",
       "    <tr>\n",
       "      <td>5</td>\n",
       "      <td>7.4</td>\n",
       "      <td>428142</td>\n",
       "      <td>Mission: Impossible - Ghost Protocol</td>\n",
       "      <td>Action,Adventure,Thriller</td>\n",
       "      <td>False</td>\n",
       "      <td>False</td>\n",
       "      <td>False</td>\n",
       "      <td>False</td>\n",
       "      <td>False</td>\n",
       "      <td>False</td>\n",
       "      <td>...</td>\n",
       "      <td>False</td>\n",
       "      <td>False</td>\n",
       "      <td>True</td>\n",
       "      <td>True</td>\n",
       "      <td>False</td>\n",
       "      <td>False</td>\n",
       "      <td>2011</td>\n",
       "      <td>209400000.0</td>\n",
       "      <td>485300000.0</td>\n",
       "      <td>694700000.0</td>\n",
       "    </tr>\n",
       "  </tbody>\n",
       "</table>\n",
       "<p>5 rows × 27 columns</p>\n",
       "</div>"
      ],
      "text/plain": [
       "   averagerating  numvotes                                 title  \\\n",
       "0            4.2     50352                The Legend of Hercules   \n",
       "1            5.1      8296                         Baggage Claim   \n",
       "3            7.6    326657                             Moneyball   \n",
       "4            6.5     87288                             Hereafter   \n",
       "5            7.4    428142  Mission: Impossible - Ghost Protocol   \n",
       "\n",
       "                      genres  Sport  Fantasy  Mystery    War  Biography  \\\n",
       "0   Action,Adventure,Fantasy  False     True    False  False      False   \n",
       "1                     Comedy  False    False    False  False      False   \n",
       "3      Biography,Drama,Sport   True    False    False  False       True   \n",
       "4      Drama,Fantasy,Romance  False     True    False  False      False   \n",
       "5  Action,Adventure,Thriller  False    False    False  False      False   \n",
       "\n",
       "   Drama  ...  Documentary  Sci-Fi  Action  Thriller  Music  Animation  year  \\\n",
       "0  False  ...        False   False    True     False  False      False  2014   \n",
       "1  False  ...        False   False   False     False  False      False  2013   \n",
       "3   True  ...        False   False   False     False  False      False  2011   \n",
       "4   True  ...        False   False   False     False  False      False  2010   \n",
       "5  False  ...        False   False    True      True  False      False  2011   \n",
       "\n",
       "     dom_gross    for_gross  world_gross  \n",
       "0   18800000.0   42400000.0   61200000.0  \n",
       "1   21600000.0     887000.0   22487000.0  \n",
       "3   75600000.0   34600000.0  110200000.0  \n",
       "4   32700000.0   72500000.0  105200000.0  \n",
       "5  209400000.0  485300000.0  694700000.0  \n",
       "\n",
       "[5 rows x 27 columns]"
      ]
     },
     "execution_count": 4,
     "metadata": {},
     "output_type": "execute_result"
    }
   ],
   "source": [
    "df.head()"
   ]
  },
  {
   "cell_type": "code",
   "execution_count": 5,
   "metadata": {},
   "outputs": [
    {
     "name": "stdout",
     "output_type": "stream",
     "text": [
      "<class 'pandas.core.frame.DataFrame'>\n",
      "Int64Index: 2966 entries, 0 to 2982\n",
      "Data columns (total 27 columns):\n",
      "averagerating    2966 non-null float64\n",
      "numvotes         2966 non-null int64\n",
      "title            2966 non-null object\n",
      "genres           2966 non-null object\n",
      "Sport            2966 non-null bool\n",
      "Fantasy          2966 non-null bool\n",
      "Mystery          2966 non-null bool\n",
      "War              2966 non-null bool\n",
      "Biography        2966 non-null bool\n",
      "Drama            2966 non-null bool\n",
      "Comedy           2966 non-null bool\n",
      "History          2966 non-null bool\n",
      "Crime            2966 non-null bool\n",
      "Horror           2966 non-null bool\n",
      "Family           2966 non-null bool\n",
      "Adventure        2966 non-null bool\n",
      "Romance          2966 non-null bool\n",
      "Documentary      2966 non-null bool\n",
      "Sci-Fi           2966 non-null bool\n",
      "Action           2966 non-null bool\n",
      "Thriller         2966 non-null bool\n",
      "Music            2966 non-null bool\n",
      "Animation        2966 non-null bool\n",
      "year             2966 non-null int64\n",
      "dom_gross        2966 non-null float64\n",
      "for_gross        1941 non-null float64\n",
      "world_gross      1941 non-null float64\n",
      "dtypes: bool(19), float64(4), int64(2), object(2)\n",
      "memory usage: 263.6+ KB\n"
     ]
    }
   ],
   "source": [
    "df.info()"
   ]
  },
  {
   "cell_type": "code",
   "execution_count": null,
   "metadata": {},
   "outputs": [],
   "source": []
  },
  {
   "cell_type": "code",
   "execution_count": 6,
   "metadata": {},
   "outputs": [],
   "source": [
    "low_votes = df[(df['numvotes'] > 250000) | (df['numvotes'] < 1000)].index\n",
    "df2 = df.drop(low_votes)"
   ]
  },
  {
   "cell_type": "code",
   "execution_count": 7,
   "metadata": {},
   "outputs": [
    {
     "data": {
      "text/plain": [
       "<matplotlib.axes._subplots.AxesSubplot at 0x7f137c4fc190>"
      ]
     },
     "execution_count": 7,
     "metadata": {},
     "output_type": "execute_result"
    },
    {
     "data": {
      "image/png": "[encoded data removed]",
      "text/plain": [
       "<Figure size 720x720 with 1 Axes>"
      ]
     },
     "metadata": {
      "needs_background": "light"
     },
     "output_type": "display_data"
    }
   ],
   "source": [
    "fig, ax = plt.subplots(figsize=(10,10))\n",
    "sns.regplot(x=df2[\"numvotes\"], y=df2[\"dom_gross\"], fit_reg=True)\n",
    "\n"
   ]
  },
  {
   "cell_type": "code",
   "execution_count": 8,
   "metadata": {},
   "outputs": [
    {
     "data": {
      "text/html": [
       "<div>\n",
       "<style scoped>\n",
       "    .dataframe tbody tr th:only-of-type {\n",
       "        vertical-align: middle;\n",
       "    }\n",
       "\n",
       "    .dataframe tbody tr th {\n",
       "        vertical-align: top;\n",
       "    }\n",
       "\n",
       "    .dataframe thead th {\n",
       "        text-align: right;\n",
       "    }\n",
       "</style>\n",
       "<table border=\"1\" class=\"dataframe\">\n",
       "  <thead>\n",
       "    <tr style=\"text-align: right;\">\n",
       "      <th></th>\n",
       "      <th>averagerating</th>\n",
       "      <th>numvotes</th>\n",
       "      <th>title</th>\n",
       "      <th>genres</th>\n",
       "      <th>Sport</th>\n",
       "      <th>Fantasy</th>\n",
       "      <th>Mystery</th>\n",
       "      <th>War</th>\n",
       "      <th>Biography</th>\n",
       "      <th>Drama</th>\n",
       "      <th>...</th>\n",
       "      <th>Documentary</th>\n",
       "      <th>Sci-Fi</th>\n",
       "      <th>Action</th>\n",
       "      <th>Thriller</th>\n",
       "      <th>Music</th>\n",
       "      <th>Animation</th>\n",
       "      <th>year</th>\n",
       "      <th>dom_gross</th>\n",
       "      <th>for_gross</th>\n",
       "      <th>world_gross</th>\n",
       "    </tr>\n",
       "  </thead>\n",
       "  <tbody>\n",
       "    <tr>\n",
       "      <td>144</td>\n",
       "      <td>6.1</td>\n",
       "      <td>43</td>\n",
       "      <td>Avatar</td>\n",
       "      <td>Horror</td>\n",
       "      <td>False</td>\n",
       "      <td>False</td>\n",
       "      <td>False</td>\n",
       "      <td>False</td>\n",
       "      <td>False</td>\n",
       "      <td>False</td>\n",
       "      <td>...</td>\n",
       "      <td>False</td>\n",
       "      <td>False</td>\n",
       "      <td>False</td>\n",
       "      <td>False</td>\n",
       "      <td>False</td>\n",
       "      <td>False</td>\n",
       "      <td>2009</td>\n",
       "      <td>760507625.0</td>\n",
       "      <td>2.015838e+09</td>\n",
       "      <td>2.776345e+09</td>\n",
       "    </tr>\n",
       "  </tbody>\n",
       "</table>\n",
       "<p>1 rows × 27 columns</p>\n",
       "</div>"
      ],
      "text/plain": [
       "     averagerating  numvotes   title  genres  Sport  Fantasy  Mystery    War  \\\n",
       "144            6.1        43  Avatar  Horror  False    False    False  False   \n",
       "\n",
       "     Biography  Drama  ...  Documentary  Sci-Fi  Action  Thriller  Music  \\\n",
       "144      False  False  ...        False   False   False     False  False   \n",
       "\n",
       "     Animation  year    dom_gross     for_gross   world_gross  \n",
       "144      False  2009  760507625.0  2.015838e+09  2.776345e+09  \n",
       "\n",
       "[1 rows x 27 columns]"
      ]
     },
     "execution_count": 8,
     "metadata": {},
     "output_type": "execute_result"
    }
   ],
   "source": [
    "df.loc[df['dom_gross'] == df['dom_gross'].max()]"
   ]
  },
  {
   "cell_type": "code",
   "execution_count": 9,
   "metadata": {},
   "outputs": [
    {
     "data": {
      "text/plain": [
       "Text(0.5, 0, 'Movie Average IMDB Rating')"
      ]
     },
     "execution_count": 9,
     "metadata": {},
     "output_type": "execute_result"
    },
    {
     "data": {
      "image/png": "[encoded data removed]",
      "text/plain": [
       "<Figure size 720x720 with 1 Axes>"
      ]
     },
     "metadata": {
      "needs_background": "light"
     },
     "output_type": "display_data"
    }
   ],
   "source": [
    "fig, ax = plt.subplots(figsize=(10,10))\n",
    "sns.regplot(x=df2[\"averagerating\"], y=df2[\"dom_gross\"], fit_reg=True)\n",
    "\n",
    "plt.title(\"\")\n",
    "plt.ylabel(\"Movie Revenue\")\n",
    "plt.xlabel(\"Movie Average IMDB Rating\")"
   ]
  },
  {
   "cell_type": "code",
   "execution_count": null,
   "metadata": {},
   "outputs": [
    {
     "data": {
      "text/plain": [
       "<matplotlib.axes._subplots.AxesSubplot at 0x7f137a909090>"
      ]
     },
     "execution_count": 10,
     "metadata": {},
     "output_type": "execute_result"
    }
   ],
   "source": [
    "fig, ax = plt.subplots(figsize=(10,10))\n",
    "sns.barplot(x=df2[\"dom_gross\"], y=df2[\"numvotes\"])"
   ]
  },
  {
   "cell_type": "code",
   "execution_count": null,
   "metadata": {},
   "outputs": [],
   "source": [
    "table1 = pd.pivot_table(df, index=['genres'], values ='dom_gross', aggfunc=['mean','median','std','count'])\n",
    "table1 = pd.DataFrame(table1)\n",
    "table1.columns = table1.columns.to_series().str.join('_')\n",
    "table1 = pd.DataFrame(table1.sort_values('median_dom_gross', ascending=False))\n",
    "table1 = pd.DataFrame(table1.loc[table1['count_dom_gross']>9].reset_index())\n",
    "table1.columns = ['genres', 'mean_dom_gross', 'median_dom_gross',\n",
    "       'std_dom_gross', 'count_dom_gross']\n",
    "table1[['genres', 'mean_dom_gross', 'median_dom_gross','std_dom_gross','count_dom_gross']].head()"
   ]
  },
  {
   "cell_type": "code",
   "execution_count": null,
   "metadata": {},
   "outputs": [],
   "source": [
    "table2 = pd.DataFrame(table1.sort_values('mean_dom_gross', ascending=False))"
   ]
  },
  {
   "cell_type": "code",
   "execution_count": null,
   "metadata": {},
   "outputs": [],
   "source": [
    "top5_mean = table2.iloc[:5]"
   ]
  },
  {
   "cell_type": "code",
   "execution_count": null,
   "metadata": {},
   "outputs": [],
   "source": [
    "top5_median = table1.iloc[:5]"
   ]
  },
  {
   "cell_type": "code",
   "execution_count": null,
   "metadata": {},
   "outputs": [],
   "source": [
    "fig, ax = plt.subplots(figsize=(10,10))\n",
    "sns.barplot(x=top5_median[\"genres\"], y=top5_median[\"median_dom_gross\"], palette='Blues_r')\n",
    "plt.ylim(0, 250000000.00)\n",
    "plt.ylabel('Median Domestic Revenue (Hundred Millions)')\n",
    "plt.title('What Groups of Genres Drive Revenue?')\n",
    "plt.xticks(rotation=45)\n"
   ]
  },
  {
   "cell_type": "code",
   "execution_count": null,
   "metadata": {},
   "outputs": [],
   "source": [
    "fig, ax = plt.subplots(figsize=(10,10))\n",
    "sns.barplot(x=top5_mean[\"genres\"], y=top5_mean[\"mean_dom_gross\"], palette='Blues_r')\n",
    "plt.ylim(0, 250000000.00)\n",
    "plt.ylabel('Mean Domestic Revenue (Hundred Millions)')\n",
    "plt.title('What Groups of Genres Drive Revenue?')\n",
    "plt.xticks(rotation=45)"
   ]
  },
  {
   "cell_type": "code",
   "execution_count": null,
   "metadata": {},
   "outputs": [],
   "source": [
    "def genre_descriptive_stats(df, key_col): #key_column will be what we want to run descriptive stats on\n",
    "    mean = np.ndarray(0)\n",
    "    median = np.ndarray(0)\n",
    "    std = np.ndarray(0)\n",
    "\n",
    "    df_columns_to_use = df.columns[4:-5] #change this as needed\n",
    "\n",
    "    for i, genre in enumerate(df_columns_to_use):\n",
    "        mean = np.append(mean, df[key_col].loc[df[genre]].mean())\n",
    "        median = np.append(median, df[key_col].loc[df[genre]].median())\n",
    "        std = np.append(std, df[key_col].loc[df[genre]].std())\n",
    "    d1 = np.append([mean], [median], axis=0)\n",
    "    d2 = np.append(d1, [std], axis=0)\n",
    "    d3 = np.transpose(d2)\n",
    "    descr_stats_df = pd.DataFrame(data=d3, columns=['mean', 'median', 'standard_deviation'], index=list(df_columns_to_use))\n",
    "    return descr_stats_df"
   ]
  },
  {
   "cell_type": "code",
   "execution_count": null,
   "metadata": {},
   "outputs": [],
   "source": [
    "genre_descriptive_stats(df, 'averagerating')"
   ]
  },
  {
   "cell_type": "code",
   "execution_count": null,
   "metadata": {},
   "outputs": [],
   "source": [
    "genre_descriptive_stats(df, 'numvotes')"
   ]
  },
  {
   "cell_type": "code",
   "execution_count": null,
   "metadata": {},
   "outputs": [],
   "source": [
    "dom_gross_stats = genre_descriptive_stats(df, 'dom_gross')"
   ]
  },
  {
   "cell_type": "code",
   "execution_count": null,
   "metadata": {},
   "outputs": [],
   "source": [
    "top_5_median_dom_gross = dom_gross_stats.sort_values('median', ascending=False)\n",
    "top_5_median_dom_gross = top_5_median_dom_gross.iloc[:5]\n",
    "top_5_median_dom_gross"
   ]
  },
  {
   "cell_type": "code",
   "execution_count": null,
   "metadata": {},
   "outputs": [],
   "source": [
    "fig, ax = plt.subplots(figsize=(10,10))\n",
    "sns.barplot(x=top_5_median_dom_gross.index, y=top_5_median_dom_gross[\"median\"], palette='Blues_r')\n",
    "plt.ylim(0, 250000000.00)\n",
    "plt.ylabel('Median (Hundred Millions)')\n",
    "plt.title('What Individual Genre Drives Revenue?')\n",
    "plt.xticks(rotation=45)"
   ]
  },
  {
   "cell_type": "code",
   "execution_count": null,
   "metadata": {},
   "outputs": [],
   "source": [
    "top_5_mean_dom_gross = dom_gross_stats.sort_values('mean', ascending=False)\n",
    "top_5_mean_dom_gross = top_5_mean_dom_gross.iloc[:5]\n",
    "top_5_mean_dom_gross"
   ]
  },
  {
   "cell_type": "code",
   "execution_count": null,
   "metadata": {},
   "outputs": [],
   "source": [
    "fig, ax = plt.subplots(figsize=(10,10))\n",
    "sns.barplot(x=top_5_mean_dom_gross.index, y=top_5_mean_dom_gross[\"mean\"], palette='Blues_r')\n",
    "plt.ylim(0, 250000000.00)\n",
    "plt.ylabel('Mean (Hundred Millions)')\n",
    "plt.title('What Individual Genre Drives Revenue?')\n",
    "plt.xticks(rotation=45)"
   ]
  },
  {
   "cell_type": "code",
   "execution_count": null,
   "metadata": {},
   "outputs": [],
   "source": [
    "bottom_5_std_dom_gross = dom_gross_stats.sort_values('standard_deviation', ascending=True)\n",
    "bottom_5_std_dom_gross = bottom_5_std_dom_gross.iloc[:5]\n",
    "bottom_5_std_dom_gross"
   ]
  },
  {
   "cell_type": "code",
   "execution_count": null,
   "metadata": {},
   "outputs": [],
   "source": [
    "fig, ax = plt.subplots(figsize=(10,10))\n",
    "sns.barplot(x=bottom_5_std_dom_gross.index, y=bottom_5_std_dom_gross[\"standard_deviation\"], palette='Blues_r')\n",
    "plt.ylim(0, 100000000.00)\n",
    "plt.ylabel('Standard Deviation (Hundred Millions)')\n",
    "plt.title('Playing It Safe')\n",
    "plt.xticks(rotation=45)"
   ]
  },
  {
   "cell_type": "code",
   "execution_count": null,
   "metadata": {},
   "outputs": [],
   "source": [
    "df_dom_gross_asc = df.sort_values('dom_gross', ascending=False)"
   ]
  },
  {
   "cell_type": "code",
   "execution_count": null,
   "metadata": {},
   "outputs": [],
   "source": [
    "table_top_10_dom = df_dom_gross_asc.iloc[:10]"
   ]
  },
  {
   "cell_type": "code",
   "execution_count": null,
   "metadata": {},
   "outputs": [],
   "source": [
    "table_top_10_dom"
   ]
  },
  {
   "cell_type": "code",
   "execution_count": null,
   "metadata": {},
   "outputs": [],
   "source": [
    "pd.DataFrame(table_top_10_dom, columns=('title','genres','dom_gross'))"
   ]
  },
  {
   "cell_type": "code",
   "execution_count": null,
   "metadata": {},
   "outputs": [],
   "source": []
  }
 ],
 "metadata": {
  "kernelspec": {
   "display_name": "Python 3",
   "language": "python",
   "name": "python3"
  },
  "language_info": {
   "codemirror_mode": {
    "name": "ipython",
    "version": 3
   },
   "file_extension": ".py",
   "mimetype": "text/x-python",
   "name": "python",
   "nbconvert_exporter": "python",
   "pygments_lexer": "ipython3",
   "version": "3.7.4"
  }
 },
 "nbformat": 4,
 "nbformat_minor": 2
}
