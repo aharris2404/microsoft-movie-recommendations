{
 "cells": [
  {
   "cell_type": "markdown",
   "metadata": {},
   "source": [
    "#  **Microsoft Movie Studio - Nontechnical Summary**\n",
    "Authors: Andrew Harris & Stuart Murphy\n"
   ]
  },
  {
   "cell_type": "markdown",
   "metadata": {},
   "source": [
    "# Project Objective\n",
    "\n",
    "The goal of the project is to help Microsoft identify what types of movies they should make as they plan to launch a new movie studio. Primarily, we want to help them identify the key KPIs for success and how to reach them.\n",
    "\n",
    "Data:\n",
    "The sources of our data was taken from a variety of sources: IMDB & Box Office Mojo.\n",
    "\n"
   ]
  },
  {
   "cell_type": "markdown",
   "metadata": {},
   "source": [
    "## KPI for Success\n",
    "We have defined success within the context of Revenue and Popularity. Microsoft should create movies that maximize revenue and create 'buzz' for the following reasons:\n",
    "1. According to industry stabndards, 70% of movies lose money. It is expected that 30% of movies made will recoup the loses from the other 70%. Therefore, Microsoft should maximize revenue potential, and expected to lose money most of the time.\n",
    "2. As a new entrant, the box office matters. Box Office Revenue generates buzz. Profitability doesn't.\n"
   ]
  },
  {
   "cell_type": "markdown",
   "metadata": {},
   "source": [
    "## Methodology\n",
    "1.\tFeature Selection\n",
    "    -\tIdentifying revenue our target variable and selecting Genre & number of ratings as our subject for exploration\n",
    "2.\tData Cleaning\n",
    "    -\tTransformation of str to float\n",
    "3.\tFeature Engineering\n",
    "    -\tNew feature creation (Boolean Table for each genre)\n",
    "    -\tSort values\n",
    "    -\tMerge datasets\n",
    "    -\tDrop missing values\n",
    "    -   Drop unnecessary columns\n",
    "4.\tExploratory Analysis & Visualization\n",
    "    -\tCentral tendency\n",
    "    -\tDistribution"
   ]
  },
  {
   "cell_type": "code",
   "execution_count": null,
   "metadata": {},
   "outputs": [],
   "source": []
  }
 ],
 "metadata": {
  "kernelspec": {
   "display_name": "Python 3",
   "language": "python",
   "name": "python3"
  },
  "language_info": {
   "codemirror_mode": {
    "name": "ipython",
    "version": 3
   },
   "file_extension": ".py",
   "mimetype": "text/x-python",
   "name": "python",
   "nbconvert_exporter": "python",
   "pygments_lexer": "ipython3",
   "version": "3.7.3"
  }
 },
 "nbformat": 4,
 "nbformat_minor": 2
}
